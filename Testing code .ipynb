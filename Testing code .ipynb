{
 "cells": [
  {
   "cell_type": "code",
   "execution_count": 20,
   "id": "8f9b7d9f-2ba7-4784-9282-770155edbe22",
   "metadata": {},
   "outputs": [],
   "source": [
    "#My Jupyter Notebook on IBM Watson Studio\n"
   ]
  },
  {
   "cell_type": "code",
   "execution_count": null,
   "id": "c932d8ec-6b3d-4e3f-8ac4-5b608dec15b8",
   "metadata": {},
   "outputs": [],
   "source": [
    "#Sinisa Surla"
   ]
  },
  {
   "cell_type": "code",
   "execution_count": null,
   "id": "d1dc06a5-ce39-4a0a-975e-aa521f256ab5",
   "metadata": {},
   "outputs": [],
   "source": [
    "#I am interested in learning to code in Python"
   ]
  },
  {
   "cell_type": "code",
   "execution_count": null,
   "id": "79635f4c-4013-4851-856e-a80734d808c1",
   "metadata": {},
   "outputs": [],
   "source": [
    "#The foloving is a simple adition code "
   ]
  },
  {
   "cell_type": "code",
   "execution_count": 22,
   "id": "2aa6377d-661d-4315-b0fb-921397de123b",
   "metadata": {},
   "outputs": [],
   "source": [
    "a=10\n",
    "b=15\n",
    "y=a+b\n"
   ]
  },
  {
   "cell_type": "code",
   "execution_count": null,
   "id": "89c6ab4d-b89d-495c-b07f-25f4f4b2e8e8",
   "metadata": {},
   "outputs": [],
   "source": []
  },
  {
   "cell_type": "code",
   "execution_count": null,
   "id": "fa31360c-e6d1-4d15-ad0d-dc1d5adaf3e2",
   "metadata": {},
   "outputs": [],
   "source": []
  }
 ],
 "metadata": {
  "kernelspec": {
   "display_name": "Python",
   "language": "python",
   "name": "conda-env-python-py"
  },
  "language_info": {
   "codemirror_mode": {
    "name": "ipython",
    "version": 3
   },
   "file_extension": ".py",
   "mimetype": "text/x-python",
   "name": "python",
   "nbconvert_exporter": "python",
   "pygments_lexer": "ipython3",
   "version": "3.7.12"
  }
 },
 "nbformat": 4,
 "nbformat_minor": 5
}
